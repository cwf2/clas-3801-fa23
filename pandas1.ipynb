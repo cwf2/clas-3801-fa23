{
  "nbformat": 4,
  "nbformat_minor": 0,
  "metadata": {
    "colab": {
      "provenance": [],
      "authorship_tag": "ABX9TyOPn5ISVgmMZo0/mhFCb+QP",
      "include_colab_link": true
    },
    "kernelspec": {
      "name": "python3",
      "display_name": "Python 3"
    },
    "language_info": {
      "name": "python"
    }
  },
  "cells": [
    {
      "cell_type": "markdown",
      "metadata": {
        "id": "view-in-github",
        "colab_type": "text"
      },
      "source": [
        "<a href=\"https://colab.research.google.com/github/cwf2/clas-3801-fa23/blob/main/pandas1.ipynb\" target=\"_parent\"><img src=\"https://colab.research.google.com/assets/colab-badge.svg\" alt=\"Open In Colab\"/></a>"
      ]
    },
    {
      "cell_type": "code",
      "execution_count": null,
      "metadata": {
        "id": "MBtUdJzekiNe"
      },
      "outputs": [],
      "source": [
        "import os\n",
        "import json\n",
        "import spacy\n",
        "import pandas as pd\n",
        "from matplotlib import pyplot as plt"
      ]
    },
    {
      "cell_type": "code",
      "source": [
        "# use a chache\n",
        "cache_file = 'cache.json'\n",
        "\n",
        "if os.path.exists(cache_file):\n",
        "    with open(cache_file) as f:\n",
        "        cache = json.load(f)\n",
        "else:\n",
        "    print(f\"Can't find cache {cache_file}!\")"
      ],
      "metadata": {
        "id": "5DlRjBIOk124"
      },
      "execution_count": null,
      "outputs": []
    },
    {
      "cell_type": "code",
      "source": [
        "nlp = spacy.load('en_core_web_sm')"
      ],
      "metadata": {
        "id": "ua5uE2CBlANo"
      },
      "execution_count": null,
      "outputs": []
    },
    {
      "cell_type": "code",
      "source": [
        "comments = []\n",
        "\n",
        "for i, path in enumerate(cache):\n",
        "    recipe = cache[path]\n",
        "    these_comments = []\n",
        "    print(f'[{i+1}/{len(cache)}] {recipe.get(\"title\")}', end=' ... ')\n",
        "\n",
        "    for comment in recipe.get('comments'):\n",
        "        rating = comment.get('rating')\n",
        "        text = comment.get('text')\n",
        "        if text is not None and len(text) > 0:\n",
        "            doc = nlp(text)\n",
        "            these_comments.append(dict(path=path, rating=rating, doc=doc))\n",
        "    print(f'{len(these_comments)} comments')\n",
        "\n",
        "    comments.extend(these_comments)\n",
        "\n",
        "comments = pd.DataFrame(comments)\n",
        "display(comments)"
      ],
      "metadata": {
        "id": "z3k1pXt9lKYf"
      },
      "execution_count": null,
      "outputs": []
    }
  ]
}