{
 "cells": [
  {
   "cell_type": "code",
   "execution_count": null,
   "id": "d06b1674-5006-4bc4-a02d-81b2c5734172",
   "metadata": {},
   "outputs": [],
   "source": [
    "# Colab only\n",
    "!rm -rf clas-3801 corpus\n",
    "!git clone https://github.com/cwf2/clas-3801-fa23\n",
    "!mv clas-3801-fa23/Week_05/corpus .\n",
    "!rm -rf clas-3801-fa23"
   ]
  },
  {
   "cell_type": "code",
   "execution_count": null,
   "id": "08ac3cc5-2f20-42a1-b549-9031d0915cc1",
   "metadata": {},
   "outputs": [],
   "source": [
    "import os\n",
    "import requests\n",
    "import pandas as pd\n",
    "import spacy\n",
    "from matplotlib import pyplot as plt\n",
    "from sklearn.decomposition import PCA"
   ]
  },
  {
   "cell_type": "code",
   "execution_count": null,
   "id": "8490ed87-6a46-42ee-b2b1-c57b35123bc2",
   "metadata": {},
   "outputs": [],
   "source": [
    "nlp = spacy.load('en_core_web_sm')\n",
    "\n",
    "files = [f for f in os.listdir(dir_texts) if not f.startswith('.')]\n",
    "corpus = []\n",
    "\n",
    "for filename in files:\n",
    "    author, title = filename[:-4].split('_', 1)\n",
    "    path = os.path.join('corpus', filename)\n",
    "    print(path, end='...')\n",
    "    with open(path) as f:\n",
    "        fulltext = f.read()\n",
    "        doc = nlp(fulltext)\n",
    "        print(len(doc), 'tokens')\n",
    "        corpus.append(dict(\n",
    "            author = author,\n",
    "            title = title,\n",
    "            token = [tok for tok in doc],\n",
    "        ))\n",
    "corpus = pd.DataFrame(corpus)\n",
    "display(corpus)"
   ]
  },
  {
   "cell_type": "code",
   "execution_count": null,
   "id": "3288461c-fdc9-4ac4-956c-88d9b3ebd115",
   "metadata": {},
   "outputs": [],
   "source": [
    "tokens = pd.DataFrame(corpus).explode('token', ignore_index=True)\n",
    "display(tokens)"
   ]
  },
  {
   "cell_type": "code",
   "execution_count": null,
   "id": "4b5f2513-8e62-4909-9bfd-6eaab74f1a74",
   "metadata": {},
   "outputs": [],
   "source": [
    "tokens['text'] = [tok.text for tok in tokens['token']]\n",
    "tokens['lemma'] = [tok.lemma_ for tok in tokens['token']]\n",
    "tokens['pos'] = [tok.pos_ for tok in tokens['token']]\n",
    "display(tokens)"
   ]
  },
  {
   "cell_type": "code",
   "execution_count": null,
   "id": "5d59c775-abc1-4d82-bd54-ff75cc615941",
   "metadata": {},
   "outputs": [],
   "source": [
    "tokens = tokens.loc[tokens.pos!='PUNCT']\n",
    "tokens = tokens.loc[tokens.pos!='SPACE']\n",
    "tokens = tokens.loc[tokens.pos!='PROPN']\n",
    "tokens = tokens.loc[tokens.text.str.contains(r'[A-Za-z]')]\n",
    "display(tokens)"
   ]
  },
  {
   "cell_type": "code",
   "execution_count": null,
   "id": "e36f6e51-ca18-49f8-8401-a8d607f45cc6",
   "metadata": {
    "scrolled": true
   },
   "outputs": [],
   "source": [
    "pos_freq = pd.crosstab([tokens['author'], tokens['title']], tokens['pos'], normalize='index')*1000\n",
    "display(pos_freq)"
   ]
  },
  {
   "cell_type": "code",
   "execution_count": null,
   "id": "85f58872-3f3f-47ad-aee5-089644ac2589",
   "metadata": {},
   "outputs": [],
   "source": [
    "feat_x = 'NOUN'\n",
    "feat_y = 'VERB'\n",
    "\n",
    "fig, ax = plt.subplots()\n",
    "authors = pos_freq.index.get_level_values(0)\n",
    "for label, group in pos_freq.groupby(authors):\n",
    "    ax.plot(group[feat_x], group[feat_y], marker='o', ls='', label=label)\n",
    "    ax.set_xlabel(feat_x)\n",
    "    ax.set_ylabel(feat_y)\n",
    "    ax.legend()"
   ]
  },
  {
   "cell_type": "code",
   "execution_count": null,
   "id": "c6a3e7c7-8881-4350-99b4-30e20fe6d08c",
   "metadata": {},
   "outputs": [],
   "source": [
    "tokens.groupby('lemma').agg(count=('token', 'count')).sort_values('count', ascending=False).iloc[:30]"
   ]
  },
  {
   "cell_type": "code",
   "execution_count": null,
   "id": "db1cf514-75e5-4d87-97da-fabca775fd7e",
   "metadata": {},
   "outputs": [],
   "source": [
    "mfw = tokens.groupby('lemma').agg(count=('token', 'count')).sort_values('count', ascending=False).iloc[:100].index.values\n",
    "print(mfw)"
   ]
  },
  {
   "cell_type": "code",
   "execution_count": null,
   "id": "ccbe0350-13a8-4c26-97dd-aef33d406e56",
   "metadata": {},
   "outputs": [],
   "source": [
    "selected = tokens.lemma.isin(mfw)\n",
    "lemma_count = pd.crosstab([tokens.loc[selected, 'author'],tokens.loc[selected, 'title']], tokens.loc[selected, 'lemma'])\n",
    "display(lemma_count)"
   ]
  },
  {
   "cell_type": "code",
   "execution_count": null,
   "id": "83896be0-c920-41f4-9e64-906462d42f0f",
   "metadata": {},
   "outputs": [],
   "source": [
    "n_lemmas = tokens.groupby('title').agg(\n",
    "    n=('lemma', 'count'),\n",
    "    \n",
    ")\n",
    "lemma_freq = lemma_count.div(n_lemmas.n, axis=0) * 1000\n",
    "display(lemma_freq)"
   ]
  },
  {
   "cell_type": "code",
   "execution_count": null,
   "id": "195d2d38-7983-4e9a-8827-631579572b1d",
   "metadata": {},
   "outputs": [],
   "source": [
    "lemma_z = lemma_freq.sub(lemma_freq.mean(), axis=1).div(lemma_freq.std(), axis=1)\n",
    "display(lemma_z)"
   ]
  },
  {
   "cell_type": "code",
   "execution_count": null,
   "id": "e901cb95-7811-422d-8a8c-48e4d4c6ec4f",
   "metadata": {},
   "outputs": [],
   "source": [
    "feat_x = 'and'\n",
    "feat_y = 'but'\n",
    "\n",
    "fig, ax = plt.subplots()\n",
    "for label, group in lemma_z.groupby(authors):\n",
    "    ax.plot(group[feat_x], group[feat_y], marker='o', ls='', label=label)\n",
    "ax.set_xlabel(feat_x)\n",
    "ax.set_ylabel(feat_y)\n",
    "ax.legend()"
   ]
  },
  {
   "cell_type": "code",
   "execution_count": null,
   "id": "b974788a-56e8-4f43-9171-4d3e1cd6c3fc",
   "metadata": {},
   "outputs": [],
   "source": [
    "pca_model = PCA(n_components=3)"
   ]
  },
  {
   "cell_type": "code",
   "execution_count": null,
   "id": "4903075a-1949-4f26-8569-25feb677264f",
   "metadata": {},
   "outputs": [],
   "source": [
    "pca = pd.DataFrame(\n",
    "    pca_model.fit_transform(lemma_z),\n",
    "    index = lemma_z.index,\n",
    "    columns = ['PC1', 'PC2', 'PC3'],\n",
    ")\n",
    "display(pca)"
   ]
  },
  {
   "cell_type": "code",
   "execution_count": null,
   "id": "6156e90c-0c4d-4626-8267-918e26d3ee1b",
   "metadata": {},
   "outputs": [],
   "source": [
    "feat_x = 'PC1'\n",
    "feat_y = 'PC2'\n",
    "\n",
    "fig, ax = plt.subplots()\n",
    "for label, group in pca.groupby(authors):\n",
    "    ax.plot(group[feat_x], group[feat_y], marker='o', ls='', label=label)\n",
    "ax.set_xlabel(feat_x)\n",
    "ax.set_ylabel(feat_y)\n",
    "ax.legend()"
   ]
  }
 ],
 "metadata": {
  "kernelspec": {
   "display_name": "Python 3 (ipykernel)",
   "language": "python",
   "name": "python3"
  },
  "language_info": {
   "codemirror_mode": {
    "name": "ipython",
    "version": 3
   },
   "file_extension": ".py",
   "mimetype": "text/x-python",
   "name": "python",
   "nbconvert_exporter": "python",
   "pygments_lexer": "ipython3",
   "version": "3.10.12"
  }
 },
 "nbformat": 4,
 "nbformat_minor": 5
}
