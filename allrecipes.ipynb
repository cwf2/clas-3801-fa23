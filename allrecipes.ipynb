{
  "cells": [
    {
      "cell_type": "markdown",
      "metadata": {
        "id": "view-in-github",
        "colab_type": "text"
      },
      "source": [
        "<a href=\"https://colab.research.google.com/github/cwf2/clas-3801-fa23/blob/main/allrecipes.ipynb\" target=\"_parent\"><img src=\"https://colab.research.google.com/assets/colab-badge.svg\" alt=\"Open In Colab\"/></a>"
      ]
    },
    {
      "cell_type": "markdown",
      "metadata": {
        "id": "kTG6HLRO763S"
      },
      "source": [
        "### Install additional packages\n",
        "\n",
        "We're going to use `requests-html` instead of `requests` because it seems to do a better job of mimicking a web browser and thus not getting booted from the site."
      ]
    },
    {
      "cell_type": "code",
      "execution_count": null,
      "metadata": {
        "id": "Syqt8aCneY2C"
      },
      "outputs": [],
      "source": [
        "!pip install requests-html"
      ]
    },
    {
      "cell_type": "markdown",
      "metadata": {
        "id": "F2e4VfY48Agb"
      },
      "source": [
        "### import statements\n",
        "\n",
        "In addition to **requests-html** we're using **json** to decode the data stored in the page header, and **pandas** to process some of the data."
      ]
    },
    {
      "cell_type": "code",
      "execution_count": null,
      "metadata": {
        "id": "ygWYVaspjiS9"
      },
      "outputs": [],
      "source": [
        "import os\n",
        "import json\n",
        "import time, random\n",
        "import pandas as pd\n",
        "from matplotlib import pyplot as plt\n",
        "from requests_html import HTMLSession"
      ]
    },
    {
      "cell_type": "markdown",
      "metadata": {
        "id": "IGYAMlhl8wRj"
      },
      "source": [
        "### Preliminaries\n",
        "\n",
        "Aspects of the connection to allrecipes that are common to the whole script."
      ]
    },
    {
      "cell_type": "code",
      "execution_count": null,
      "metadata": {
        "id": "gwgWfUqh4Icj"
      },
      "outputs": [],
      "source": [
        "# create a session for all HTTP requests\n",
        "session = HTMLSession()\n",
        "\n",
        "# this part of the URL doesn't change\n",
        "base_url = 'https://www.allrecipes.com/recipe/'"
      ]
    },
    {
      "cell_type": "markdown",
      "metadata": {
        "id": "BiRCfFUP9Lgh"
      },
      "source": [
        "### Download a single recipe\n",
        "\n",
        "Here we test out our methods on a single page. Make sure to run this cell as infrequently as possible, so that the site doesn't get mad about bot-like patterns of requests."
      ]
    },
    {
      "cell_type": "code",
      "execution_count": null,
      "metadata": {
        "id": "7laCS4GJjybb"
      },
      "outputs": [],
      "source": [
        "page = '18379/best-green-bean-casserole/'\n",
        "response = session.get(base_url+page)\n",
        "if not response.ok:\n",
        "  response.raise_for_status()\n",
        "\n",
        "html = response.html\n"
      ]
    },
    {
      "cell_type": "markdown",
      "metadata": {
        "id": "blwBsNHc9bHM"
      },
      "source": [
        "## Processing the results\n",
        "\n",
        "Now that we have the HTTP response, we can take our time parsing it to pull out the information we want.\n",
        "\n",
        "### Parsing the HTML\n",
        "\n",
        "A lot of the information we want is right on the page. We just need to be able to navigate the HTML structure in order to find the bits we're interested in."
      ]
    },
    {
      "cell_type": "code",
      "execution_count": null,
      "metadata": {
        "id": "5ap1uFnoj3xO"
      },
      "outputs": [],
      "source": [
        "# title\n",
        "title = html.find('h1.article-heading', first=True).text\n",
        "print(title)"
      ]
    },
    {
      "cell_type": "code",
      "execution_count": null,
      "metadata": {
        "id": "oVpbghqx9AjT"
      },
      "outputs": [],
      "source": [
        "# ingredients\n",
        "ingredients = []\n",
        "for item in html.find('li.mntl-structured-ingredients__list-item > p'):\n",
        "  quantity = item.find('span[@data-ingredient-quantity=\"true\"]', first=True)\n",
        "  if quantity is not None:\n",
        "    quantity = int(quantity.text)\n",
        "\n",
        "  unit = item.find('span[@data-ingredient-unit=\"true\"]', first=True)\n",
        "  if unit is not None:\n",
        "    unit = unit.text\n",
        "\n",
        "  name = item.find('span[@data-ingredient-name=\"true\"]', first=True)\n",
        "  if name is not None:\n",
        "    name = name.text\n",
        "\n",
        "  ingredients.append(dict(\n",
        "      quantity = quantity,\n",
        "      unit = unit,\n",
        "      name = name,\n",
        "  ))\n",
        "\n",
        "ingredients = pd.DataFrame(ingredients)\n",
        "display(ingredients)"
      ]
    },
    {
      "cell_type": "code",
      "execution_count": null,
      "metadata": {
        "id": "bmBt_g5IFjGD"
      },
      "outputs": [],
      "source": [
        "# nutrition facts summary\n",
        "facts_summary = {}\n",
        "\n",
        "for tr in html.find('tr.mntl-nutrition-facts-summary__table-row'):\n",
        "  cells = tr.find('td')\n",
        "  if len(cells) == 2:\n",
        "    value, label = [cell.text for cell in cells]\n",
        "    facts_summary[label] = value\n",
        "\n",
        "print(facts_summary)"
      ]
    },
    {
      "cell_type": "code",
      "execution_count": null,
      "metadata": {
        "id": "PKgYYpLJAjZv"
      },
      "outputs": [],
      "source": [
        "# steps\n",
        "steps = []\n",
        "for li in html.find('#recipe__steps-content_1-0 > ol > li'):\n",
        "  step_paras = [p.text for p in li.find('li > p')]\n",
        "  step_text = '\\n'.join(step_paras)\n",
        "  steps.append(step_text)\n",
        "\n",
        "for i, step in enumerate(steps):\n",
        "  print(i, step, sep='\\t')"
      ]
    },
    {
      "cell_type": "markdown",
      "metadata": {
        "id": "13nX_GCaRlxR"
      },
      "source": [
        "### Parsing embedded JSON data\n",
        "\n",
        "Some of the things we want, like the comments at the bottom of the page, are not initially in the html structure of the page; rather, they're included in JSON format as part of a `<script>` element in the header.\n",
        "\n",
        "Here we extract a dictionary of recipe attributes from that element:"
      ]
    },
    {
      "cell_type": "code",
      "execution_count": null,
      "metadata": {
        "id": "RNRh1KOzj4mj"
      },
      "outputs": [],
      "source": [
        "# get JSON data stored in the header\n",
        "script = html.find('#allrecipes-schema_1-0', first=True)\n",
        "data = json.loads(script.text)\n",
        "data = data[0]"
      ]
    },
    {
      "cell_type": "markdown",
      "metadata": {
        "id": "OiATQ1Wpz4z2"
      },
      "source": [
        "Now we can pull out the data we need using keys to the dictionary."
      ]
    },
    {
      "cell_type": "code",
      "execution_count": null,
      "metadata": {
        "id": "DFKETguB68tD"
      },
      "outputs": [],
      "source": [
        "# number of ratings\n",
        "n_ratings = data.get('aggregateRating', {}).get('ratingCount')\n",
        "\n",
        "# average ratings\n",
        "rating = data.get('aggregateRating', {}).get('ratingValue')\n",
        "if rating is not None:\n",
        "  rating = float(rating)"
      ]
    },
    {
      "cell_type": "code",
      "execution_count": null,
      "metadata": {
        "id": "yUZZCgxNoEAR"
      },
      "outputs": [],
      "source": [
        "# comments\n",
        "comments = pd.DataFrame(dict(\n",
        "    rating = comment.get('reviewRating', {}).get('ratingValue'),\n",
        "    name = comment.get('author', {}).get('name'),\n",
        "    text = comment.get('reviewBody'),\n",
        ") for comment in data['review'])\n",
        "display(comments)"
      ]
    },
    {
      "cell_type": "code",
      "execution_count": null,
      "metadata": {
        "id": "_NOXU0NeK1lv"
      },
      "outputs": [],
      "source": [
        "# full nutrition info\n",
        "nutrition = {}\n",
        "for k, v in data['nutrition'].items():\n",
        "  if k.startswith('@'):\n",
        "    continue\n",
        "  if k.endswith('Content'):\n",
        "    k = k[:-7]\n",
        "  nutrition[k] = v\n",
        "\n",
        "print(nutrition)"
      ]
    },
    {
      "cell_type": "markdown",
      "metadata": {
        "id": "G9WoPCf_z_Ko"
      },
      "source": [
        "# Part II\n",
        "\n",
        "Now that we've tested each individual element of the page that we might want to extract, let's synthesize all the steps above in one custom function.\n",
        "- It takes as an argument the path to a recipe.\n",
        "- It downloads the recipe page and extracts all the data we want.\n",
        "- It returns a dictionary with the extracted data."
      ]
    },
    {
      "cell_type": "code",
      "execution_count": null,
      "metadata": {
        "id": "VYw95R3c0YD1"
      },
      "outputs": [],
      "source": [
        "def ripRecipe(path):\n",
        "    '''Rip a single recipe from AllRecipes and return a dictionary'''\n",
        "\n",
        "    # request the page from AllRecipes\n",
        "    response = session.get(base_url+path)\n",
        "\n",
        "    # check for HTTP errors\n",
        "    if not response.ok:\n",
        "        response.raise_for_status()\n",
        "\n",
        "    # get just the HTML content of the response\n",
        "    html = response.html\n",
        "\n",
        "    #\n",
        "    # extract data from the HTML\n",
        "    #\n",
        "\n",
        "    # title\n",
        "    title = html.find('h1.article-heading', first=True).text\n",
        "\n",
        "\n",
        "    # ingredients\n",
        "    ingredients = []\n",
        "    for item in html.find('li.mntl-structured-ingredients__list-item > p'):\n",
        "        quantity = item.find('span[@data-ingredient-quantity=\"true\"]', first=True)\n",
        "        if quantity is not None:\n",
        "            quantity = quantity.text\n",
        "\n",
        "        unit = item.find('span[@data-ingredient-unit=\"true\"]', first=True)\n",
        "        if unit is not None:\n",
        "            unit = unit.text\n",
        "\n",
        "        name = item.find('span[@data-ingredient-name=\"true\"]', first=True)\n",
        "        if name is not None:\n",
        "            name = name.text\n",
        "\n",
        "        ingredients.append(dict(\n",
        "            quantity = quantity,\n",
        "            unit = unit,\n",
        "            name = name,\n",
        "        ))\n",
        "\n",
        "    # nutrition facts summary\n",
        "    facts_summary = {}\n",
        "\n",
        "    for tr in html.find('tr.mntl-nutrition-facts-summary__table-row'):\n",
        "        cells = tr.find('td')\n",
        "        if len(cells) == 2:\n",
        "            value, label = [cell.text for cell in cells]\n",
        "            facts_summary[label] = value\n",
        "\n",
        "    # steps\n",
        "    steps = []\n",
        "    for li in html.find('#recipe__steps-content_1-0 > ol > li'):\n",
        "        step_paras = [p.text for p in li.find('li > p')]\n",
        "        step_text = '\\n'.join(step_paras)\n",
        "        steps.append(step_text)\n",
        "\n",
        "    #\n",
        "    # get additional attributes from JSON data in the header\n",
        "    #\n",
        "\n",
        "    # extract the JSON data\n",
        "    script = html.find('#allrecipes-schema_1-0', first=True)\n",
        "    data = json.loads(script.text)\n",
        "    data = data[0]\n",
        "\n",
        "    # number of ratings\n",
        "    n_ratings = data.get('aggregateRating', {}).get('ratingCount')\n",
        "\n",
        "    # average ratings\n",
        "    rating = data.get('aggregateRating', {}).get('ratingValue')\n",
        "    if rating is not None:\n",
        "        rating = float(rating)\n",
        "\n",
        "    # comments\n",
        "    comments = [dict(\n",
        "        rating = comment.get('reviewRating', {}).get('ratingValue'),\n",
        "        name = comment.get('author', {}).get('name'),\n",
        "        text = comment.get('reviewBody'),\n",
        "    ) for comment in data.get('review')]\n",
        "\n",
        "    # full nutrition info\n",
        "    nutrition = {}\n",
        "    for k, v in data.get('nutrition', {}).items():\n",
        "        if k.startswith('@'):\n",
        "            continue\n",
        "        if k.endswith('Content'):\n",
        "            k = k[:-7]\n",
        "            nutrition[k] = v\n",
        "\n",
        "    #\n",
        "    # package everything as one dictionary\n",
        "    #\n",
        "\n",
        "    recipe = dict(\n",
        "        title = title,\n",
        "        ingredients = ingredients,\n",
        "        facts_summary = facts_summary,\n",
        "        steps = steps,\n",
        "        n_ratings = n_ratings,\n",
        "        rating = rating,\n",
        "        comments = comments,\n",
        "    )\n",
        "\n",
        "    return recipe\n"
      ]
    },
    {
      "cell_type": "markdown",
      "metadata": {
        "id": "F3K_s74o4Pp7"
      },
      "source": [
        "### Testing it out\n",
        "\n",
        "Let's try the new function on a different recipe."
      ]
    },
    {
      "cell_type": "code",
      "execution_count": null,
      "metadata": {
        "id": "Fe3kG52y4PS6"
      },
      "outputs": [],
      "source": [
        "path = '275305/green-beans-almondine/'\n",
        "recipe = ripRecipe(path)\n",
        "print(recipe)"
      ]
    },
    {
      "cell_type": "markdown",
      "metadata": {
        "id": "y7xLjqalEr-n"
      },
      "source": [
        "### Try loading a list of recipes in batch mode"
      ]
    },
    {
      "cell_type": "code",
      "execution_count": null,
      "metadata": {
        "id": "nnO_w_3WE0_N"
      },
      "outputs": [],
      "source": [
        "# download a list page instead of a single recipe\n",
        "\n",
        "list_url = 'https://www.allrecipes.com/9x13-thanksgiving-casseroles-8401120'\n",
        "response = session.get(list_url)\n",
        "if not response.ok:\n",
        "    response.raise_for_status()\n",
        "\n",
        "html = response.html"
      ]
    },
    {
      "cell_type": "code",
      "execution_count": null,
      "metadata": {
        "id": "97ZZgnmKHo7u"
      },
      "outputs": [],
      "source": [
        "# extract the links to featured recipes from the list\n",
        "\n",
        "paths = []\n",
        "\n",
        "for link in html.find('a.mntl-sc-block-featuredlink__link'):\n",
        "    href = link.attrs.get('href')\n",
        "    if href.startswith('https://www.allrecipes.com/recipe/'):\n",
        "        paths.append(href[34:])\n",
        "\n",
        "print('\\n'.join(paths))"
      ]
    },
    {
      "cell_type": "markdown",
      "source": [
        "### Precautions in downloading recipes in batch\n",
        "\n",
        "- Cache results locally so that we don't have to re-do things that work\n",
        "- Add a randomly timed pause in between downloads, to seem less robotic"
      ],
      "metadata": {
        "id": "rgtAfzDdEk8J"
      }
    },
    {
      "cell_type": "code",
      "execution_count": null,
      "metadata": {
        "id": "DcDuqpcsJb8c"
      },
      "outputs": [],
      "source": [
        "# use a chache\n",
        "cache_file = 'cache.json'\n",
        "\n",
        "if os.path.exists(cache_file):\n",
        "    with open(cache_file) as f:\n",
        "        cache = json.load(f)\n",
        "else:\n",
        "    cache = {}"
      ]
    },
    {
      "cell_type": "code",
      "source": [
        "# download all the recipes\n",
        "\n",
        "for i, path in enumerate(paths):\n",
        "    print(f'[{i+1}/{len(paths)}] {path}', end=' ... ')\n",
        "\n",
        "    # check cache before downloading\n",
        "    if path in cache:\n",
        "        print('cached')\n",
        "        continue\n",
        "\n",
        "    # download this recipe and save to cache\n",
        "    cache[path] = ripRecipe(path)\n",
        "    print('downloaded')\n",
        "\n",
        "    # pause\n",
        "    time.sleep(random.randint(2,10))"
      ],
      "metadata": {
        "id": "rHzlm_eTFQQo"
      },
      "execution_count": null,
      "outputs": []
    },
    {
      "cell_type": "code",
      "source": [
        "# save cache to file\n",
        "print(f'writing {cache_file}')\n",
        "\n",
        "with open(cache_file, 'w') as f:\n",
        "    json.dump(cache, f)"
      ],
      "metadata": {
        "id": "NMAyk0DkfeNW"
      },
      "execution_count": null,
      "outputs": []
    }
  ],
  "metadata": {
    "colab": {
      "provenance": [],
      "authorship_tag": "ABX9TyO3IzHA1RZYOx3le0QU641n",
      "include_colab_link": true
    },
    "kernelspec": {
      "display_name": "Python 3",
      "name": "python3"
    },
    "language_info": {
      "name": "python"
    }
  },
  "nbformat": 4,
  "nbformat_minor": 0
}