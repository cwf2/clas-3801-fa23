{
  "nbformat": 4,
  "nbformat_minor": 0,
  "metadata": {
    "colab": {
      "provenance": []
    },
    "kernelspec": {
      "name": "python3",
      "display_name": "Python 3"
    },
    "language_info": {
      "name": "python"
    }
  },
  "cells": [
    {
      "cell_type": "markdown",
      "source": [
        "### install additional packages\n",
        "\n",
        "We're going to use `requests-html` instead of `requests` because it seems to do a better job of mimicking a web browser and thus not getting booted from the site."
      ],
      "metadata": {
        "id": "kTG6HLRO763S"
      }
    },
    {
      "cell_type": "code",
      "execution_count": null,
      "metadata": {
        "id": "Syqt8aCneY2C"
      },
      "outputs": [],
      "source": [
        "!pip install requests-html"
      ]
    },
    {
      "cell_type": "markdown",
      "source": [
        "### import statements\n",
        "\n",
        "In addition to **requests-html** we're using **json** to decode the data stored in the page header, and **pandas** to process some of the data."
      ],
      "metadata": {
        "id": "F2e4VfY48Agb"
      }
    },
    {
      "cell_type": "code",
      "source": [
        "import json\n",
        "import pandas as pd\n",
        "from requests_html import HTMLSession"
      ],
      "metadata": {
        "id": "ygWYVaspjiS9"
      },
      "execution_count": null,
      "outputs": []
    },
    {
      "cell_type": "markdown",
      "source": [
        "### Preliminaries\n",
        "\n",
        "Aspects of the connection to allrecipes that are common to the whole script."
      ],
      "metadata": {
        "id": "IGYAMlhl8wRj"
      }
    },
    {
      "cell_type": "code",
      "source": [
        "# create a session for all HTTP requests\n",
        "session = HTMLSession()\n",
        "\n",
        "# this part of the URL doesn't change\n",
        "base_url = 'https://www.allrecipes.com/recipe/'"
      ],
      "metadata": {
        "id": "gwgWfUqh4Icj"
      },
      "execution_count": null,
      "outputs": []
    },
    {
      "cell_type": "markdown",
      "source": [
        "### Download a single recipe\n",
        "\n",
        "Here we test out our methods on a single page. Make sure to run this cell as infrequently as possible, so that the site doesn't get mad about bot-like patterns of requests."
      ],
      "metadata": {
        "id": "BiRCfFUP9Lgh"
      }
    },
    {
      "cell_type": "code",
      "source": [
        "\n",
        "page = '18379/best-green-bean-casserole/'\n",
        "response = session.get(base_url+page)\n",
        "if not response.ok:\n",
        "  response.raise_for_status()\n",
        "\n",
        "html = response.html\n",
        ""
      ],
      "metadata": {
        "id": "7laCS4GJjybb"
      },
      "execution_count": null,
      "outputs": []
    },
    {
      "cell_type": "markdown",
      "source": [
        "## Processing the results\n",
        "\n",
        "Now that we have the HTTP response, we can take our time parsing it to pull out the information we want.\n",
        "\n",
        "### Parsing the HTML\n",
        "\n",
        "A lot of the information we want is right on the page. We just need to be able to navigate the HTML structure in order to find the bits we're interested in."
      ],
      "metadata": {
        "id": "blwBsNHc9bHM"
      }
    },
    {
      "cell_type": "code",
      "source": [
        "# title\n",
        "title = html.find('h1.article-heading', first=True).text\n",
        "print(title)"
      ],
      "metadata": {
        "id": "5ap1uFnoj3xO"
      },
      "execution_count": null,
      "outputs": []
    },
    {
      "cell_type": "code",
      "source": [
        "# ingredients\n",
        "ingredients = []\n",
        "for item in html.find('li.mntl-structured-ingredients__list-item > p'):\n",
        "  quantity = item.find('span[@data-ingredient-quantity=\"true\"]', first=True)\n",
        "  if quantity is not None:\n",
        "    quantity = int(quantity.text)\n",
        "\n",
        "  unit = item.find('span[@data-ingredient-unit=\"true\"]', first=True)\n",
        "  if unit is not None:\n",
        "    unit = unit.text\n",
        "\n",
        "  name = item.find('span[@data-ingredient-name=\"true\"]', first=True)\n",
        "  if name is not None:\n",
        "    name = name.text\n",
        "\n",
        "  ingredients.append(dict(\n",
        "      quantity = quantity,\n",
        "      unit = unit,\n",
        "      name = name,\n",
        "  ))\n",
        "\n",
        "ingredients = pd.DataFrame(ingredients)\n",
        "display(ingredients)"
      ],
      "metadata": {
        "id": "oVpbghqx9AjT"
      },
      "execution_count": null,
      "outputs": []
    },
    {
      "cell_type": "code",
      "source": [
        "# nutrition facts summary\n",
        "facts_summary = {}\n",
        "\n",
        "for tr in html.find('tr.mntl-nutrition-facts-summary__table-row'):\n",
        "  cells = tr.find('td')\n",
        "  if len(cells) == 2:\n",
        "    value, label = [cell.text for cell in cells]\n",
        "    facts_summary[label] = value\n",
        "\n",
        "print(facts_summary)"
      ],
      "metadata": {
        "id": "bmBt_g5IFjGD"
      },
      "execution_count": null,
      "outputs": []
    },
    {
      "cell_type": "code",
      "source": [
        "# steps\n",
        "steps = []\n",
        "for li in html.find('#recipe__steps-content_1-0 > ol > li'):\n",
        "  step_paras = [p.text for p in li.find('li > p')]\n",
        "  step_text = '\\n'.join(step_paras)\n",
        "  steps.append(step_text)\n",
        "\n",
        "for i, step in enumerate(steps):\n",
        "  print(i, step, sep='\\t')"
      ],
      "metadata": {
        "id": "PKgYYpLJAjZv"
      },
      "execution_count": null,
      "outputs": []
    },
    {
      "cell_type": "code",
      "source": [
        "### Parsing embedded JSON data\n",
        "\n",
        "Some of the things we want, like the comments at the"
      ],
      "metadata": {
        "id": "13nX_GCaRlxR"
      },
      "execution_count": null,
      "outputs": []
    },
    {
      "cell_type": "code",
      "source": [
        "# get JSON data stored in the header\n",
        "script = html.find('#allrecipes-schema_1-0', first=True)\n",
        "data = json.loads(script.text)\n",
        "data = data[0]"
      ],
      "metadata": {
        "id": "RNRh1KOzj4mj"
      },
      "execution_count": null,
      "outputs": []
    },
    {
      "cell_type": "code",
      "source": [
        "# number of ratings\n",
        "n_ratings = data.get('aggregateRating', {}).get('ratingCount')\n",
        "\n",
        "# average ratings\n",
        "rating = data.get('aggregateRating', {}).get('ratingValue')\n",
        "if rating is not None:\n",
        "  rating = float(rating)"
      ],
      "metadata": {
        "id": "DFKETguB68tD"
      },
      "execution_count": null,
      "outputs": []
    },
    {
      "cell_type": "code",
      "source": [
        "# comments\n",
        "comments = pd.DataFrame(dict(\n",
        "    rating = comment.get('reviewRating', {}).get('ratingValue'),\n",
        "    name = comment.get('author', {}).get('name'),\n",
        "    text = comment.get('reviewBody'),\n",
        ") for comment in data['review'])\n",
        "display(comments)"
      ],
      "metadata": {
        "id": "yUZZCgxNoEAR"
      },
      "execution_count": null,
      "outputs": []
    },
    {
      "cell_type": "code",
      "source": [
        "# full nutrition info\n",
        "nutrition = {}\n",
        "for k, v in data['nutrition'].items():\n",
        "  if k.startswith('@'):\n",
        "    continue\n",
        "  if k.endswith('Content'):\n",
        "    k = k[:-7]\n",
        "  nutrition[k] = v\n",
        "\n",
        "print(nutrition)"
      ],
      "metadata": {
        "id": "_NOXU0NeK1lv"
      },
      "execution_count": null,
      "outputs": []
    }
  ]
}