{
  "cells": [
    {
      "cell_type": "markdown",
      "metadata": {
        "id": "view-in-github",
        "colab_type": "text"
      },
      "source": [
        "<a href=\"https://colab.research.google.com/github/cwf2/clas-3801-fa23/blob/main/allrecipes.ipynb\" target=\"_parent\"><img src=\"https://colab.research.google.com/assets/colab-badge.svg\" alt=\"Open In Colab\"/></a>"
      ]
    },
    {
      "cell_type": "markdown",
      "metadata": {
        "id": "kTG6HLRO763S"
      },
      "source": [
        "### Install additional packages\n",
        "\n",
        "We're going to use `requests-html` instead of `requests` because it seems to do a better job of mimicking a web browser and thus not getting booted from the site."
      ]
    },
    {
      "cell_type": "code",
      "execution_count": 1,
      "metadata": {
        "id": "Syqt8aCneY2C",
        "outputId": "21d07228-ae30-45c2-9f78-a33aa94e6227",
        "colab": {
          "base_uri": "https://localhost:8080/"
        }
      },
      "outputs": [
        {
          "output_type": "stream",
          "name": "stdout",
          "text": [
            "Collecting requests-html\n",
            "  Downloading requests_html-0.10.0-py3-none-any.whl (13 kB)\n",
            "Requirement already satisfied: requests in /usr/local/lib/python3.10/dist-packages (from requests-html) (2.31.0)\n",
            "Collecting pyquery (from requests-html)\n",
            "  Downloading pyquery-2.0.0-py3-none-any.whl (22 kB)\n",
            "Collecting fake-useragent (from requests-html)\n",
            "  Downloading fake_useragent-1.4.0-py3-none-any.whl (15 kB)\n",
            "Collecting parse (from requests-html)\n",
            "  Downloading parse-1.20.0-py2.py3-none-any.whl (19 kB)\n",
            "Collecting bs4 (from requests-html)\n",
            "  Downloading bs4-0.0.1.tar.gz (1.1 kB)\n",
            "  Preparing metadata (setup.py) ... \u001b[?25l\u001b[?25hdone\n",
            "Collecting w3lib (from requests-html)\n",
            "  Downloading w3lib-2.1.2-py3-none-any.whl (21 kB)\n",
            "Collecting pyppeteer>=0.0.14 (from requests-html)\n",
            "  Downloading pyppeteer-1.0.2-py3-none-any.whl (83 kB)\n",
            "\u001b[2K     \u001b[90m━━━━━━━━━━━━━━━━━━━━━━━━━━━━━━━━━━━━━━━━\u001b[0m \u001b[32m83.4/83.4 kB\u001b[0m \u001b[31m10.4 MB/s\u001b[0m eta \u001b[36m0:00:00\u001b[0m\n",
            "\u001b[?25hRequirement already satisfied: appdirs<2.0.0,>=1.4.3 in /usr/local/lib/python3.10/dist-packages (from pyppeteer>=0.0.14->requests-html) (1.4.4)\n",
            "Requirement already satisfied: certifi>=2021 in /usr/local/lib/python3.10/dist-packages (from pyppeteer>=0.0.14->requests-html) (2023.7.22)\n",
            "Requirement already satisfied: importlib-metadata>=1.4 in /usr/local/lib/python3.10/dist-packages (from pyppeteer>=0.0.14->requests-html) (6.8.0)\n",
            "Collecting pyee<9.0.0,>=8.1.0 (from pyppeteer>=0.0.14->requests-html)\n",
            "  Downloading pyee-8.2.2-py2.py3-none-any.whl (12 kB)\n",
            "Requirement already satisfied: tqdm<5.0.0,>=4.42.1 in /usr/local/lib/python3.10/dist-packages (from pyppeteer>=0.0.14->requests-html) (4.66.1)\n",
            "Collecting urllib3<2.0.0,>=1.25.8 (from pyppeteer>=0.0.14->requests-html)\n",
            "  Downloading urllib3-1.26.18-py2.py3-none-any.whl (143 kB)\n",
            "\u001b[2K     \u001b[90m━━━━━━━━━━━━━━━━━━━━━━━━━━━━━━━━━━━━━━━━\u001b[0m \u001b[32m143.8/143.8 kB\u001b[0m \u001b[31m9.1 MB/s\u001b[0m eta \u001b[36m0:00:00\u001b[0m\n",
            "\u001b[?25hCollecting websockets<11.0,>=10.0 (from pyppeteer>=0.0.14->requests-html)\n",
            "  Downloading websockets-10.4-cp310-cp310-manylinux_2_5_x86_64.manylinux1_x86_64.manylinux_2_17_x86_64.manylinux2014_x86_64.whl (106 kB)\n",
            "\u001b[2K     \u001b[90m━━━━━━━━━━━━━━━━━━━━━━━━━━━━━━━━━━━━━━━━\u001b[0m \u001b[32m106.8/106.8 kB\u001b[0m \u001b[31m13.3 MB/s\u001b[0m eta \u001b[36m0:00:00\u001b[0m\n",
            "\u001b[?25hRequirement already satisfied: beautifulsoup4 in /usr/local/lib/python3.10/dist-packages (from bs4->requests-html) (4.11.2)\n",
            "Requirement already satisfied: lxml>=2.1 in /usr/local/lib/python3.10/dist-packages (from pyquery->requests-html) (4.9.3)\n",
            "Collecting cssselect>=1.2.0 (from pyquery->requests-html)\n",
            "  Downloading cssselect-1.2.0-py2.py3-none-any.whl (18 kB)\n",
            "Requirement already satisfied: charset-normalizer<4,>=2 in /usr/local/lib/python3.10/dist-packages (from requests->requests-html) (3.3.2)\n",
            "Requirement already satisfied: idna<4,>=2.5 in /usr/local/lib/python3.10/dist-packages (from requests->requests-html) (3.4)\n",
            "Requirement already satisfied: zipp>=0.5 in /usr/local/lib/python3.10/dist-packages (from importlib-metadata>=1.4->pyppeteer>=0.0.14->requests-html) (3.17.0)\n",
            "Requirement already satisfied: soupsieve>1.2 in /usr/local/lib/python3.10/dist-packages (from beautifulsoup4->bs4->requests-html) (2.5)\n",
            "Building wheels for collected packages: bs4\n",
            "  Building wheel for bs4 (setup.py) ... \u001b[?25l\u001b[?25hdone\n",
            "  Created wheel for bs4: filename=bs4-0.0.1-py3-none-any.whl size=1257 sha256=50f648b94d4535fab7c90ce1fb2717d9a7067cd9c5cc168e89af6080f410c25a\n",
            "  Stored in directory: /root/.cache/pip/wheels/25/42/45/b773edc52acb16cd2db4cf1a0b47117e2f69bb4eb300ed0e70\n",
            "Successfully built bs4\n",
            "Installing collected packages: pyee, parse, fake-useragent, websockets, w3lib, urllib3, cssselect, pyquery, pyppeteer, bs4, requests-html\n",
            "  Attempting uninstall: urllib3\n",
            "    Found existing installation: urllib3 2.0.7\n",
            "    Uninstalling urllib3-2.0.7:\n",
            "      Successfully uninstalled urllib3-2.0.7\n",
            "Successfully installed bs4-0.0.1 cssselect-1.2.0 fake-useragent-1.4.0 parse-1.20.0 pyee-8.2.2 pyppeteer-1.0.2 pyquery-2.0.0 requests-html-0.10.0 urllib3-1.26.18 w3lib-2.1.2 websockets-10.4\n"
          ]
        }
      ],
      "source": [
        "!pip install requests-html"
      ]
    },
    {
      "cell_type": "markdown",
      "metadata": {
        "id": "F2e4VfY48Agb"
      },
      "source": [
        "### import statements\n",
        "\n",
        "In addition to **requests-html** we're using **json** to decode the data stored in the page header, and **pandas** to process some of the data."
      ]
    },
    {
      "cell_type": "code",
      "execution_count": 2,
      "metadata": {
        "id": "ygWYVaspjiS9"
      },
      "outputs": [],
      "source": [
        "import os\n",
        "import json\n",
        "import time, random\n",
        "import pandas as pd\n",
        "from matplotlib import pyplot as plt\n",
        "from requests_html import HTMLSession"
      ]
    },
    {
      "cell_type": "markdown",
      "metadata": {
        "id": "IGYAMlhl8wRj"
      },
      "source": [
        "### Preliminaries\n",
        "\n",
        "Aspects of the connection to allrecipes that are common to the whole script."
      ]
    },
    {
      "cell_type": "code",
      "execution_count": 3,
      "metadata": {
        "id": "gwgWfUqh4Icj"
      },
      "outputs": [],
      "source": [
        "# create a session for all HTTP requests\n",
        "session = HTMLSession()\n",
        "\n",
        "# this part of the URL doesn't change\n",
        "base_url = 'https://www.allrecipes.com/recipe/'"
      ]
    },
    {
      "cell_type": "markdown",
      "metadata": {
        "id": "BiRCfFUP9Lgh"
      },
      "source": [
        "### Download a single recipe\n",
        "\n",
        "Here we test out our methods on a single page. Make sure to run this cell as infrequently as possible, so that the site doesn't get mad about bot-like patterns of requests."
      ]
    },
    {
      "cell_type": "code",
      "execution_count": 4,
      "metadata": {
        "id": "7laCS4GJjybb"
      },
      "outputs": [],
      "source": [
        "page = '18379/best-green-bean-casserole/'\n",
        "response = session.get(base_url+page)\n",
        "if not response.ok:\n",
        "  response.raise_for_status()\n",
        "\n",
        "html = response.html\n"
      ]
    },
    {
      "cell_type": "markdown",
      "metadata": {
        "id": "blwBsNHc9bHM"
      },
      "source": [
        "## Processing the results\n",
        "\n",
        "Now that we have the HTTP response, we can take our time parsing it to pull out the information we want.\n",
        "\n",
        "### Parsing the HTML\n",
        "\n",
        "A lot of the information we want is right on the page. We just need to be able to navigate the HTML structure in order to find the bits we're interested in."
      ]
    },
    {
      "cell_type": "code",
      "execution_count": 5,
      "metadata": {
        "id": "5ap1uFnoj3xO",
        "outputId": "d85d1cff-899e-48be-9c2c-492a925ed637",
        "colab": {
          "base_uri": "https://localhost:8080/"
        }
      },
      "outputs": [
        {
          "output_type": "stream",
          "name": "stdout",
          "text": [
            "Best Green Bean Casserole\n"
          ]
        }
      ],
      "source": [
        "# title\n",
        "title = html.find('h1.article-heading', first=True).text\n",
        "print(title)"
      ]
    },
    {
      "cell_type": "code",
      "execution_count": 6,
      "metadata": {
        "id": "oVpbghqx9AjT",
        "outputId": "f2a77671-e560-47ac-ca7a-eca25d001451",
        "colab": {
          "base_uri": "https://localhost:8080/",
          "height": 175
        }
      },
      "outputs": [
        {
          "output_type": "display_data",
          "data": {
            "text/plain": [
              "   quantity               unit                              name\n",
              "0         2  (14.5 ounce) cans              green beans, drained\n",
              "1         1   (10.5 ounce) can  condensed cream of mushroom soup\n",
              "2         1                cup  shredded Cheddar cheese, divided\n",
              "3         1      (6 ounce) can               French-fried onions"
            ],
            "text/html": [
              "\n",
              "  <div id=\"df-82e6a13c-03ac-44a3-91fc-8d01b4a066d9\" class=\"colab-df-container\">\n",
              "    <div>\n",
              "<style scoped>\n",
              "    .dataframe tbody tr th:only-of-type {\n",
              "        vertical-align: middle;\n",
              "    }\n",
              "\n",
              "    .dataframe tbody tr th {\n",
              "        vertical-align: top;\n",
              "    }\n",
              "\n",
              "    .dataframe thead th {\n",
              "        text-align: right;\n",
              "    }\n",
              "</style>\n",
              "<table border=\"1\" class=\"dataframe\">\n",
              "  <thead>\n",
              "    <tr style=\"text-align: right;\">\n",
              "      <th></th>\n",
              "      <th>quantity</th>\n",
              "      <th>unit</th>\n",
              "      <th>name</th>\n",
              "    </tr>\n",
              "  </thead>\n",
              "  <tbody>\n",
              "    <tr>\n",
              "      <th>0</th>\n",
              "      <td>2</td>\n",
              "      <td>(14.5 ounce) cans</td>\n",
              "      <td>green beans, drained</td>\n",
              "    </tr>\n",
              "    <tr>\n",
              "      <th>1</th>\n",
              "      <td>1</td>\n",
              "      <td>(10.5 ounce) can</td>\n",
              "      <td>condensed cream of mushroom soup</td>\n",
              "    </tr>\n",
              "    <tr>\n",
              "      <th>2</th>\n",
              "      <td>1</td>\n",
              "      <td>cup</td>\n",
              "      <td>shredded Cheddar cheese, divided</td>\n",
              "    </tr>\n",
              "    <tr>\n",
              "      <th>3</th>\n",
              "      <td>1</td>\n",
              "      <td>(6 ounce) can</td>\n",
              "      <td>French-fried onions</td>\n",
              "    </tr>\n",
              "  </tbody>\n",
              "</table>\n",
              "</div>\n",
              "    <div class=\"colab-df-buttons\">\n",
              "\n",
              "  <div class=\"colab-df-container\">\n",
              "    <button class=\"colab-df-convert\" onclick=\"convertToInteractive('df-82e6a13c-03ac-44a3-91fc-8d01b4a066d9')\"\n",
              "            title=\"Convert this dataframe to an interactive table.\"\n",
              "            style=\"display:none;\">\n",
              "\n",
              "  <svg xmlns=\"http://www.w3.org/2000/svg\" height=\"24px\" viewBox=\"0 -960 960 960\">\n",
              "    <path d=\"M120-120v-720h720v720H120Zm60-500h600v-160H180v160Zm220 220h160v-160H400v160Zm0 220h160v-160H400v160ZM180-400h160v-160H180v160Zm440 0h160v-160H620v160ZM180-180h160v-160H180v160Zm440 0h160v-160H620v160Z\"/>\n",
              "  </svg>\n",
              "    </button>\n",
              "\n",
              "  <style>\n",
              "    .colab-df-container {\n",
              "      display:flex;\n",
              "      gap: 12px;\n",
              "    }\n",
              "\n",
              "    .colab-df-convert {\n",
              "      background-color: #E8F0FE;\n",
              "      border: none;\n",
              "      border-radius: 50%;\n",
              "      cursor: pointer;\n",
              "      display: none;\n",
              "      fill: #1967D2;\n",
              "      height: 32px;\n",
              "      padding: 0 0 0 0;\n",
              "      width: 32px;\n",
              "    }\n",
              "\n",
              "    .colab-df-convert:hover {\n",
              "      background-color: #E2EBFA;\n",
              "      box-shadow: 0px 1px 2px rgba(60, 64, 67, 0.3), 0px 1px 3px 1px rgba(60, 64, 67, 0.15);\n",
              "      fill: #174EA6;\n",
              "    }\n",
              "\n",
              "    .colab-df-buttons div {\n",
              "      margin-bottom: 4px;\n",
              "    }\n",
              "\n",
              "    [theme=dark] .colab-df-convert {\n",
              "      background-color: #3B4455;\n",
              "      fill: #D2E3FC;\n",
              "    }\n",
              "\n",
              "    [theme=dark] .colab-df-convert:hover {\n",
              "      background-color: #434B5C;\n",
              "      box-shadow: 0px 1px 3px 1px rgba(0, 0, 0, 0.15);\n",
              "      filter: drop-shadow(0px 1px 2px rgba(0, 0, 0, 0.3));\n",
              "      fill: #FFFFFF;\n",
              "    }\n",
              "  </style>\n",
              "\n",
              "    <script>\n",
              "      const buttonEl =\n",
              "        document.querySelector('#df-82e6a13c-03ac-44a3-91fc-8d01b4a066d9 button.colab-df-convert');\n",
              "      buttonEl.style.display =\n",
              "        google.colab.kernel.accessAllowed ? 'block' : 'none';\n",
              "\n",
              "      async function convertToInteractive(key) {\n",
              "        const element = document.querySelector('#df-82e6a13c-03ac-44a3-91fc-8d01b4a066d9');\n",
              "        const dataTable =\n",
              "          await google.colab.kernel.invokeFunction('convertToInteractive',\n",
              "                                                    [key], {});\n",
              "        if (!dataTable) return;\n",
              "\n",
              "        const docLinkHtml = 'Like what you see? Visit the ' +\n",
              "          '<a target=\"_blank\" href=https://colab.research.google.com/notebooks/data_table.ipynb>data table notebook</a>'\n",
              "          + ' to learn more about interactive tables.';\n",
              "        element.innerHTML = '';\n",
              "        dataTable['output_type'] = 'display_data';\n",
              "        await google.colab.output.renderOutput(dataTable, element);\n",
              "        const docLink = document.createElement('div');\n",
              "        docLink.innerHTML = docLinkHtml;\n",
              "        element.appendChild(docLink);\n",
              "      }\n",
              "    </script>\n",
              "  </div>\n",
              "\n",
              "\n",
              "<div id=\"df-30aa8e44-8ff4-456f-b3eb-25617ad85800\">\n",
              "  <button class=\"colab-df-quickchart\" onclick=\"quickchart('df-30aa8e44-8ff4-456f-b3eb-25617ad85800')\"\n",
              "            title=\"Suggest charts\"\n",
              "            style=\"display:none;\">\n",
              "\n",
              "<svg xmlns=\"http://www.w3.org/2000/svg\" height=\"24px\"viewBox=\"0 0 24 24\"\n",
              "     width=\"24px\">\n",
              "    <g>\n",
              "        <path d=\"M19 3H5c-1.1 0-2 .9-2 2v14c0 1.1.9 2 2 2h14c1.1 0 2-.9 2-2V5c0-1.1-.9-2-2-2zM9 17H7v-7h2v7zm4 0h-2V7h2v10zm4 0h-2v-4h2v4z\"/>\n",
              "    </g>\n",
              "</svg>\n",
              "  </button>\n",
              "\n",
              "<style>\n",
              "  .colab-df-quickchart {\n",
              "      --bg-color: #E8F0FE;\n",
              "      --fill-color: #1967D2;\n",
              "      --hover-bg-color: #E2EBFA;\n",
              "      --hover-fill-color: #174EA6;\n",
              "      --disabled-fill-color: #AAA;\n",
              "      --disabled-bg-color: #DDD;\n",
              "  }\n",
              "\n",
              "  [theme=dark] .colab-df-quickchart {\n",
              "      --bg-color: #3B4455;\n",
              "      --fill-color: #D2E3FC;\n",
              "      --hover-bg-color: #434B5C;\n",
              "      --hover-fill-color: #FFFFFF;\n",
              "      --disabled-bg-color: #3B4455;\n",
              "      --disabled-fill-color: #666;\n",
              "  }\n",
              "\n",
              "  .colab-df-quickchart {\n",
              "    background-color: var(--bg-color);\n",
              "    border: none;\n",
              "    border-radius: 50%;\n",
              "    cursor: pointer;\n",
              "    display: none;\n",
              "    fill: var(--fill-color);\n",
              "    height: 32px;\n",
              "    padding: 0;\n",
              "    width: 32px;\n",
              "  }\n",
              "\n",
              "  .colab-df-quickchart:hover {\n",
              "    background-color: var(--hover-bg-color);\n",
              "    box-shadow: 0 1px 2px rgba(60, 64, 67, 0.3), 0 1px 3px 1px rgba(60, 64, 67, 0.15);\n",
              "    fill: var(--button-hover-fill-color);\n",
              "  }\n",
              "\n",
              "  .colab-df-quickchart-complete:disabled,\n",
              "  .colab-df-quickchart-complete:disabled:hover {\n",
              "    background-color: var(--disabled-bg-color);\n",
              "    fill: var(--disabled-fill-color);\n",
              "    box-shadow: none;\n",
              "  }\n",
              "\n",
              "  .colab-df-spinner {\n",
              "    border: 2px solid var(--fill-color);\n",
              "    border-color: transparent;\n",
              "    border-bottom-color: var(--fill-color);\n",
              "    animation:\n",
              "      spin 1s steps(1) infinite;\n",
              "  }\n",
              "\n",
              "  @keyframes spin {\n",
              "    0% {\n",
              "      border-color: transparent;\n",
              "      border-bottom-color: var(--fill-color);\n",
              "      border-left-color: var(--fill-color);\n",
              "    }\n",
              "    20% {\n",
              "      border-color: transparent;\n",
              "      border-left-color: var(--fill-color);\n",
              "      border-top-color: var(--fill-color);\n",
              "    }\n",
              "    30% {\n",
              "      border-color: transparent;\n",
              "      border-left-color: var(--fill-color);\n",
              "      border-top-color: var(--fill-color);\n",
              "      border-right-color: var(--fill-color);\n",
              "    }\n",
              "    40% {\n",
              "      border-color: transparent;\n",
              "      border-right-color: var(--fill-color);\n",
              "      border-top-color: var(--fill-color);\n",
              "    }\n",
              "    60% {\n",
              "      border-color: transparent;\n",
              "      border-right-color: var(--fill-color);\n",
              "    }\n",
              "    80% {\n",
              "      border-color: transparent;\n",
              "      border-right-color: var(--fill-color);\n",
              "      border-bottom-color: var(--fill-color);\n",
              "    }\n",
              "    90% {\n",
              "      border-color: transparent;\n",
              "      border-bottom-color: var(--fill-color);\n",
              "    }\n",
              "  }\n",
              "</style>\n",
              "\n",
              "  <script>\n",
              "    async function quickchart(key) {\n",
              "      const quickchartButtonEl =\n",
              "        document.querySelector('#' + key + ' button');\n",
              "      quickchartButtonEl.disabled = true;  // To prevent multiple clicks.\n",
              "      quickchartButtonEl.classList.add('colab-df-spinner');\n",
              "      try {\n",
              "        const charts = await google.colab.kernel.invokeFunction(\n",
              "            'suggestCharts', [key], {});\n",
              "      } catch (error) {\n",
              "        console.error('Error during call to suggestCharts:', error);\n",
              "      }\n",
              "      quickchartButtonEl.classList.remove('colab-df-spinner');\n",
              "      quickchartButtonEl.classList.add('colab-df-quickchart-complete');\n",
              "    }\n",
              "    (() => {\n",
              "      let quickchartButtonEl =\n",
              "        document.querySelector('#df-30aa8e44-8ff4-456f-b3eb-25617ad85800 button');\n",
              "      quickchartButtonEl.style.display =\n",
              "        google.colab.kernel.accessAllowed ? 'block' : 'none';\n",
              "    })();\n",
              "  </script>\n",
              "</div>\n",
              "    </div>\n",
              "  </div>\n"
            ]
          },
          "metadata": {}
        }
      ],
      "source": [
        "# ingredients\n",
        "ingredients = []\n",
        "for item in html.find('li.mntl-structured-ingredients__list-item > p'):\n",
        "  quantity = item.find('span[@data-ingredient-quantity=\"true\"]', first=True)\n",
        "  if quantity is not None:\n",
        "    quantity = int(quantity.text)\n",
        "\n",
        "  unit = item.find('span[@data-ingredient-unit=\"true\"]', first=True)\n",
        "  if unit is not None:\n",
        "    unit = unit.text\n",
        "\n",
        "  name = item.find('span[@data-ingredient-name=\"true\"]', first=True)\n",
        "  if name is not None:\n",
        "    name = name.text\n",
        "\n",
        "  ingredients.append(dict(\n",
        "      quantity = quantity,\n",
        "      unit = unit,\n",
        "      name = name,\n",
        "  ))\n",
        "\n",
        "ingredients = pd.DataFrame(ingredients)\n",
        "display(ingredients)"
      ]
    },
    {
      "cell_type": "code",
      "execution_count": 7,
      "metadata": {
        "id": "bmBt_g5IFjGD",
        "outputId": "f6c7ee6d-16ef-484a-a064-c6924709d426",
        "colab": {
          "base_uri": "https://localhost:8080/"
        }
      },
      "outputs": [
        {
          "output_type": "stream",
          "name": "stdout",
          "text": [
            "{'Calories': '322', 'Fat': '23g', 'Carbs': '20g', 'Protein': '7g'}\n"
          ]
        }
      ],
      "source": [
        "# nutrition facts summary\n",
        "facts_summary = {}\n",
        "\n",
        "for tr in html.find('tr.mntl-nutrition-facts-summary__table-row'):\n",
        "  cells = tr.find('td')\n",
        "  if len(cells) == 2:\n",
        "    value, label = [cell.text for cell in cells]\n",
        "    facts_summary[label] = value\n",
        "\n",
        "print(facts_summary)"
      ]
    },
    {
      "cell_type": "code",
      "execution_count": 8,
      "metadata": {
        "id": "PKgYYpLJAjZv",
        "outputId": "24de3145-d9c1-4d9b-cfa7-d8b388086d48",
        "colab": {
          "base_uri": "https://localhost:8080/"
        }
      },
      "outputs": [
        {
          "output_type": "stream",
          "name": "stdout",
          "text": [
            "0\tPreheat the oven to 350 degrees F (175 degrees C).\n",
            "1\tMix green beans and condensed soup together in a large microwave-safe bowl until well combined. Microwave on high until warm, 3 to 5 minutes.\n",
            "2\tStir 1/2 cup Cheddar cheese into the green bean mixture. Microwave on high for 2 to 3 minutes.\n",
            "3\tTransfer mixture to a casserole dish and spread evenly over the bottom. Sprinkle French-fried onions over top, then sprinkle with remaining Cheddar.\n",
            "4\tBake in the preheated oven until cheese is melted and the onions are just turning brown, about 10 minutes.\n"
          ]
        }
      ],
      "source": [
        "# steps\n",
        "steps = []\n",
        "for li in html.find('#recipe__steps-content_1-0 > ol > li'):\n",
        "  step_paras = [p.text for p in li.find('li > p')]\n",
        "  step_text = '\\n'.join(step_paras)\n",
        "  steps.append(step_text)\n",
        "\n",
        "for i, step in enumerate(steps):\n",
        "  print(i, step, sep='\\t')"
      ]
    },
    {
      "cell_type": "markdown",
      "metadata": {
        "id": "13nX_GCaRlxR"
      },
      "source": [
        "### Parsing embedded JSON data\n",
        "\n",
        "Some of the things we want, like the comments at the bottom of the page, are not initially in the html structure of the page; rather, they're included in JSON format as part of a `<script>` element in the header.\n",
        "\n",
        "Here we extract a dictionary of recipe attributes from that element:"
      ]
    },
    {
      "cell_type": "code",
      "execution_count": 9,
      "metadata": {
        "id": "RNRh1KOzj4mj"
      },
      "outputs": [],
      "source": [
        "# get JSON data stored in the header\n",
        "script = html.find('#allrecipes-schema_1-0', first=True)\n",
        "data = json.loads(script.text)\n",
        "data = data[0]"
      ]
    },
    {
      "cell_type": "markdown",
      "metadata": {
        "id": "OiATQ1Wpz4z2"
      },
      "source": [
        "Now we can pull out the data we need using keys to the dictionary."
      ]
    },
    {
      "cell_type": "code",
      "execution_count": 10,
      "metadata": {
        "id": "DFKETguB68tD"
      },
      "outputs": [],
      "source": [
        "# number of ratings\n",
        "n_ratings = data.get('aggregateRating', {}).get('ratingCount')\n",
        "\n",
        "# average ratings\n",
        "rating = data.get('aggregateRating', {}).get('ratingValue')\n",
        "if rating is not None:\n",
        "  rating = float(rating)"
      ]
    },
    {
      "cell_type": "code",
      "execution_count": 11,
      "metadata": {
        "id": "yUZZCgxNoEAR",
        "outputId": "33cbe996-6bab-4f19-c8ae-646ad3e37d5a",
        "colab": {
          "base_uri": "https://localhost:8080/",
          "height": 424
        }
      },
      "outputs": [
        {
          "output_type": "display_data",
          "data": {
            "text/plain": [
              "   rating                  name  \\\n",
              "0       5                 Karen   \n",
              "1       5              PamMiami   \n",
              "2       5       queenandrea1988   \n",
              "3       5     Allrecipes Member   \n",
              "4       5     Allrecipes Member   \n",
              "..    ...                   ...   \n",
              "94      5              brittany   \n",
              "95      5  Kelli Annette Holder   \n",
              "96      4                Nicole   \n",
              "97      5                barb63   \n",
              "98      5            RoxyStanek   \n",
              "\n",
              "                                                 text  \n",
              "0   Added chopped water chestnuts and bacon, and m...  \n",
              "1   Very good!! I did add a splash of water to the...  \n",
              "2   This is a traditional meal, not only for potlu...  \n",
              "3                    Quick and easy and great tasting  \n",
              "4   It was delicious, despite not being a good che...  \n",
              "..                                                ...  \n",
              "94                     i loved it it was so delicious  \n",
              "95  Very simple, I used fresh green beans so I boi...  \n",
              "96  The dish was a major hit!! I made it for Frien...  \n",
              "97  I've been making this variation of the green b...  \n",
              "98  I use Sharp cheddar cheese and shred myself. N...  \n",
              "\n",
              "[99 rows x 3 columns]"
            ],
            "text/html": [
              "\n",
              "  <div id=\"df-696b38bc-8c89-4eda-a887-bcd8247db755\" class=\"colab-df-container\">\n",
              "    <div>\n",
              "<style scoped>\n",
              "    .dataframe tbody tr th:only-of-type {\n",
              "        vertical-align: middle;\n",
              "    }\n",
              "\n",
              "    .dataframe tbody tr th {\n",
              "        vertical-align: top;\n",
              "    }\n",
              "\n",
              "    .dataframe thead th {\n",
              "        text-align: right;\n",
              "    }\n",
              "</style>\n",
              "<table border=\"1\" class=\"dataframe\">\n",
              "  <thead>\n",
              "    <tr style=\"text-align: right;\">\n",
              "      <th></th>\n",
              "      <th>rating</th>\n",
              "      <th>name</th>\n",
              "      <th>text</th>\n",
              "    </tr>\n",
              "  </thead>\n",
              "  <tbody>\n",
              "    <tr>\n",
              "      <th>0</th>\n",
              "      <td>5</td>\n",
              "      <td>Karen</td>\n",
              "      <td>Added chopped water chestnuts and bacon, and m...</td>\n",
              "    </tr>\n",
              "    <tr>\n",
              "      <th>1</th>\n",
              "      <td>5</td>\n",
              "      <td>PamMiami</td>\n",
              "      <td>Very good!! I did add a splash of water to the...</td>\n",
              "    </tr>\n",
              "    <tr>\n",
              "      <th>2</th>\n",
              "      <td>5</td>\n",
              "      <td>queenandrea1988</td>\n",
              "      <td>This is a traditional meal, not only for potlu...</td>\n",
              "    </tr>\n",
              "    <tr>\n",
              "      <th>3</th>\n",
              "      <td>5</td>\n",
              "      <td>Allrecipes Member</td>\n",
              "      <td>Quick and easy and great tasting</td>\n",
              "    </tr>\n",
              "    <tr>\n",
              "      <th>4</th>\n",
              "      <td>5</td>\n",
              "      <td>Allrecipes Member</td>\n",
              "      <td>It was delicious, despite not being a good che...</td>\n",
              "    </tr>\n",
              "    <tr>\n",
              "      <th>...</th>\n",
              "      <td>...</td>\n",
              "      <td>...</td>\n",
              "      <td>...</td>\n",
              "    </tr>\n",
              "    <tr>\n",
              "      <th>94</th>\n",
              "      <td>5</td>\n",
              "      <td>brittany</td>\n",
              "      <td>i loved it it was so delicious</td>\n",
              "    </tr>\n",
              "    <tr>\n",
              "      <th>95</th>\n",
              "      <td>5</td>\n",
              "      <td>Kelli Annette Holder</td>\n",
              "      <td>Very simple, I used fresh green beans so I boi...</td>\n",
              "    </tr>\n",
              "    <tr>\n",
              "      <th>96</th>\n",
              "      <td>4</td>\n",
              "      <td>Nicole</td>\n",
              "      <td>The dish was a major hit!! I made it for Frien...</td>\n",
              "    </tr>\n",
              "    <tr>\n",
              "      <th>97</th>\n",
              "      <td>5</td>\n",
              "      <td>barb63</td>\n",
              "      <td>I've been making this variation of the green b...</td>\n",
              "    </tr>\n",
              "    <tr>\n",
              "      <th>98</th>\n",
              "      <td>5</td>\n",
              "      <td>RoxyStanek</td>\n",
              "      <td>I use Sharp cheddar cheese and shred myself. N...</td>\n",
              "    </tr>\n",
              "  </tbody>\n",
              "</table>\n",
              "<p>99 rows × 3 columns</p>\n",
              "</div>\n",
              "    <div class=\"colab-df-buttons\">\n",
              "\n",
              "  <div class=\"colab-df-container\">\n",
              "    <button class=\"colab-df-convert\" onclick=\"convertToInteractive('df-696b38bc-8c89-4eda-a887-bcd8247db755')\"\n",
              "            title=\"Convert this dataframe to an interactive table.\"\n",
              "            style=\"display:none;\">\n",
              "\n",
              "  <svg xmlns=\"http://www.w3.org/2000/svg\" height=\"24px\" viewBox=\"0 -960 960 960\">\n",
              "    <path d=\"M120-120v-720h720v720H120Zm60-500h600v-160H180v160Zm220 220h160v-160H400v160Zm0 220h160v-160H400v160ZM180-400h160v-160H180v160Zm440 0h160v-160H620v160ZM180-180h160v-160H180v160Zm440 0h160v-160H620v160Z\"/>\n",
              "  </svg>\n",
              "    </button>\n",
              "\n",
              "  <style>\n",
              "    .colab-df-container {\n",
              "      display:flex;\n",
              "      gap: 12px;\n",
              "    }\n",
              "\n",
              "    .colab-df-convert {\n",
              "      background-color: #E8F0FE;\n",
              "      border: none;\n",
              "      border-radius: 50%;\n",
              "      cursor: pointer;\n",
              "      display: none;\n",
              "      fill: #1967D2;\n",
              "      height: 32px;\n",
              "      padding: 0 0 0 0;\n",
              "      width: 32px;\n",
              "    }\n",
              "\n",
              "    .colab-df-convert:hover {\n",
              "      background-color: #E2EBFA;\n",
              "      box-shadow: 0px 1px 2px rgba(60, 64, 67, 0.3), 0px 1px 3px 1px rgba(60, 64, 67, 0.15);\n",
              "      fill: #174EA6;\n",
              "    }\n",
              "\n",
              "    .colab-df-buttons div {\n",
              "      margin-bottom: 4px;\n",
              "    }\n",
              "\n",
              "    [theme=dark] .colab-df-convert {\n",
              "      background-color: #3B4455;\n",
              "      fill: #D2E3FC;\n",
              "    }\n",
              "\n",
              "    [theme=dark] .colab-df-convert:hover {\n",
              "      background-color: #434B5C;\n",
              "      box-shadow: 0px 1px 3px 1px rgba(0, 0, 0, 0.15);\n",
              "      filter: drop-shadow(0px 1px 2px rgba(0, 0, 0, 0.3));\n",
              "      fill: #FFFFFF;\n",
              "    }\n",
              "  </style>\n",
              "\n",
              "    <script>\n",
              "      const buttonEl =\n",
              "        document.querySelector('#df-696b38bc-8c89-4eda-a887-bcd8247db755 button.colab-df-convert');\n",
              "      buttonEl.style.display =\n",
              "        google.colab.kernel.accessAllowed ? 'block' : 'none';\n",
              "\n",
              "      async function convertToInteractive(key) {\n",
              "        const element = document.querySelector('#df-696b38bc-8c89-4eda-a887-bcd8247db755');\n",
              "        const dataTable =\n",
              "          await google.colab.kernel.invokeFunction('convertToInteractive',\n",
              "                                                    [key], {});\n",
              "        if (!dataTable) return;\n",
              "\n",
              "        const docLinkHtml = 'Like what you see? Visit the ' +\n",
              "          '<a target=\"_blank\" href=https://colab.research.google.com/notebooks/data_table.ipynb>data table notebook</a>'\n",
              "          + ' to learn more about interactive tables.';\n",
              "        element.innerHTML = '';\n",
              "        dataTable['output_type'] = 'display_data';\n",
              "        await google.colab.output.renderOutput(dataTable, element);\n",
              "        const docLink = document.createElement('div');\n",
              "        docLink.innerHTML = docLinkHtml;\n",
              "        element.appendChild(docLink);\n",
              "      }\n",
              "    </script>\n",
              "  </div>\n",
              "\n",
              "\n",
              "<div id=\"df-3c5668a8-5e28-4ede-b653-41a17add2ece\">\n",
              "  <button class=\"colab-df-quickchart\" onclick=\"quickchart('df-3c5668a8-5e28-4ede-b653-41a17add2ece')\"\n",
              "            title=\"Suggest charts\"\n",
              "            style=\"display:none;\">\n",
              "\n",
              "<svg xmlns=\"http://www.w3.org/2000/svg\" height=\"24px\"viewBox=\"0 0 24 24\"\n",
              "     width=\"24px\">\n",
              "    <g>\n",
              "        <path d=\"M19 3H5c-1.1 0-2 .9-2 2v14c0 1.1.9 2 2 2h14c1.1 0 2-.9 2-2V5c0-1.1-.9-2-2-2zM9 17H7v-7h2v7zm4 0h-2V7h2v10zm4 0h-2v-4h2v4z\"/>\n",
              "    </g>\n",
              "</svg>\n",
              "  </button>\n",
              "\n",
              "<style>\n",
              "  .colab-df-quickchart {\n",
              "      --bg-color: #E8F0FE;\n",
              "      --fill-color: #1967D2;\n",
              "      --hover-bg-color: #E2EBFA;\n",
              "      --hover-fill-color: #174EA6;\n",
              "      --disabled-fill-color: #AAA;\n",
              "      --disabled-bg-color: #DDD;\n",
              "  }\n",
              "\n",
              "  [theme=dark] .colab-df-quickchart {\n",
              "      --bg-color: #3B4455;\n",
              "      --fill-color: #D2E3FC;\n",
              "      --hover-bg-color: #434B5C;\n",
              "      --hover-fill-color: #FFFFFF;\n",
              "      --disabled-bg-color: #3B4455;\n",
              "      --disabled-fill-color: #666;\n",
              "  }\n",
              "\n",
              "  .colab-df-quickchart {\n",
              "    background-color: var(--bg-color);\n",
              "    border: none;\n",
              "    border-radius: 50%;\n",
              "    cursor: pointer;\n",
              "    display: none;\n",
              "    fill: var(--fill-color);\n",
              "    height: 32px;\n",
              "    padding: 0;\n",
              "    width: 32px;\n",
              "  }\n",
              "\n",
              "  .colab-df-quickchart:hover {\n",
              "    background-color: var(--hover-bg-color);\n",
              "    box-shadow: 0 1px 2px rgba(60, 64, 67, 0.3), 0 1px 3px 1px rgba(60, 64, 67, 0.15);\n",
              "    fill: var(--button-hover-fill-color);\n",
              "  }\n",
              "\n",
              "  .colab-df-quickchart-complete:disabled,\n",
              "  .colab-df-quickchart-complete:disabled:hover {\n",
              "    background-color: var(--disabled-bg-color);\n",
              "    fill: var(--disabled-fill-color);\n",
              "    box-shadow: none;\n",
              "  }\n",
              "\n",
              "  .colab-df-spinner {\n",
              "    border: 2px solid var(--fill-color);\n",
              "    border-color: transparent;\n",
              "    border-bottom-color: var(--fill-color);\n",
              "    animation:\n",
              "      spin 1s steps(1) infinite;\n",
              "  }\n",
              "\n",
              "  @keyframes spin {\n",
              "    0% {\n",
              "      border-color: transparent;\n",
              "      border-bottom-color: var(--fill-color);\n",
              "      border-left-color: var(--fill-color);\n",
              "    }\n",
              "    20% {\n",
              "      border-color: transparent;\n",
              "      border-left-color: var(--fill-color);\n",
              "      border-top-color: var(--fill-color);\n",
              "    }\n",
              "    30% {\n",
              "      border-color: transparent;\n",
              "      border-left-color: var(--fill-color);\n",
              "      border-top-color: var(--fill-color);\n",
              "      border-right-color: var(--fill-color);\n",
              "    }\n",
              "    40% {\n",
              "      border-color: transparent;\n",
              "      border-right-color: var(--fill-color);\n",
              "      border-top-color: var(--fill-color);\n",
              "    }\n",
              "    60% {\n",
              "      border-color: transparent;\n",
              "      border-right-color: var(--fill-color);\n",
              "    }\n",
              "    80% {\n",
              "      border-color: transparent;\n",
              "      border-right-color: var(--fill-color);\n",
              "      border-bottom-color: var(--fill-color);\n",
              "    }\n",
              "    90% {\n",
              "      border-color: transparent;\n",
              "      border-bottom-color: var(--fill-color);\n",
              "    }\n",
              "  }\n",
              "</style>\n",
              "\n",
              "  <script>\n",
              "    async function quickchart(key) {\n",
              "      const quickchartButtonEl =\n",
              "        document.querySelector('#' + key + ' button');\n",
              "      quickchartButtonEl.disabled = true;  // To prevent multiple clicks.\n",
              "      quickchartButtonEl.classList.add('colab-df-spinner');\n",
              "      try {\n",
              "        const charts = await google.colab.kernel.invokeFunction(\n",
              "            'suggestCharts', [key], {});\n",
              "      } catch (error) {\n",
              "        console.error('Error during call to suggestCharts:', error);\n",
              "      }\n",
              "      quickchartButtonEl.classList.remove('colab-df-spinner');\n",
              "      quickchartButtonEl.classList.add('colab-df-quickchart-complete');\n",
              "    }\n",
              "    (() => {\n",
              "      let quickchartButtonEl =\n",
              "        document.querySelector('#df-3c5668a8-5e28-4ede-b653-41a17add2ece button');\n",
              "      quickchartButtonEl.style.display =\n",
              "        google.colab.kernel.accessAllowed ? 'block' : 'none';\n",
              "    })();\n",
              "  </script>\n",
              "</div>\n",
              "    </div>\n",
              "  </div>\n"
            ]
          },
          "metadata": {}
        }
      ],
      "source": [
        "# comments\n",
        "comments = pd.DataFrame(dict(\n",
        "    rating = comment.get('reviewRating', {}).get('ratingValue'),\n",
        "    name = comment.get('author', {}).get('name'),\n",
        "    text = comment.get('reviewBody'),\n",
        ") for comment in data['review'])\n",
        "display(comments)"
      ]
    },
    {
      "cell_type": "code",
      "execution_count": 12,
      "metadata": {
        "id": "_NOXU0NeK1lv",
        "outputId": "61e6808a-c154-48ec-d5aa-3ca87dae1e09",
        "colab": {
          "base_uri": "https://localhost:8080/"
        }
      },
      "outputs": [
        {
          "output_type": "stream",
          "name": "stdout",
          "text": [
            "{'calories': '322 kcal', 'carbohydrate': '20 g', 'cholesterol': '20 mg', 'fiber': '2 g', 'protein': '7 g', 'saturatedFat': '9 g', 'sodium': '1068 mg', 'sugar': '3 g', 'fat': '23 g', 'unsaturatedFat': '0 g'}\n"
          ]
        }
      ],
      "source": [
        "# full nutrition info\n",
        "nutrition = {}\n",
        "for k, v in data['nutrition'].items():\n",
        "  if k.startswith('@'):\n",
        "    continue\n",
        "  if k.endswith('Content'):\n",
        "    k = k[:-7]\n",
        "  nutrition[k] = v\n",
        "\n",
        "print(nutrition)"
      ]
    },
    {
      "cell_type": "markdown",
      "metadata": {
        "id": "G9WoPCf_z_Ko"
      },
      "source": [
        "# Part II\n",
        "\n",
        "Now that we've tested each individual element of the page that we might want to extract, let's synthesize all the steps above in one custom function.\n",
        "- It takes as an argument the path to a recipe.\n",
        "- It downloads the recipe page and extracts all the data we want.\n",
        "- It returns a dictionary with the extracted data."
      ]
    },
    {
      "cell_type": "code",
      "execution_count": 13,
      "metadata": {
        "id": "VYw95R3c0YD1"
      },
      "outputs": [],
      "source": [
        "def ripRecipe(path):\n",
        "    '''Rip a single recipe from AllRecipes and return a dictionary'''\n",
        "\n",
        "    # request the page from AllRecipes\n",
        "    response = session.get(base_url+path)\n",
        "\n",
        "    # check for HTTP errors\n",
        "    if not response.ok:\n",
        "        response.raise_for_status()\n",
        "\n",
        "    # get just the HTML content of the response\n",
        "    html = response.html\n",
        "\n",
        "    #\n",
        "    # extract data from the HTML\n",
        "    #\n",
        "\n",
        "    # title\n",
        "    title = html.find('h1.article-heading', first=True).text\n",
        "\n",
        "\n",
        "    # ingredients\n",
        "    ingredients = []\n",
        "    for item in html.find('li.mntl-structured-ingredients__list-item > p'):\n",
        "        quantity = item.find('span[@data-ingredient-quantity=\"true\"]', first=True)\n",
        "        if quantity is not None:\n",
        "            quantity = quantity.text\n",
        "\n",
        "        unit = item.find('span[@data-ingredient-unit=\"true\"]', first=True)\n",
        "        if unit is not None:\n",
        "            unit = unit.text\n",
        "\n",
        "        name = item.find('span[@data-ingredient-name=\"true\"]', first=True)\n",
        "        if name is not None:\n",
        "            name = name.text\n",
        "\n",
        "        ingredients.append(dict(\n",
        "            quantity = quantity,\n",
        "            unit = unit,\n",
        "            name = name,\n",
        "        ))\n",
        "\n",
        "    # nutrition facts summary\n",
        "    facts_summary = {}\n",
        "\n",
        "    for tr in html.find('tr.mntl-nutrition-facts-summary__table-row'):\n",
        "        cells = tr.find('td')\n",
        "        if len(cells) == 2:\n",
        "            value, label = [cell.text for cell in cells]\n",
        "            facts_summary[label] = value\n",
        "\n",
        "    # steps\n",
        "    steps = []\n",
        "    for li in html.find('#recipe__steps-content_1-0 > ol > li'):\n",
        "        step_paras = [p.text for p in li.find('li > p')]\n",
        "        step_text = '\\n'.join(step_paras)\n",
        "        steps.append(step_text)\n",
        "\n",
        "    #\n",
        "    # get additional attributes from JSON data in the header\n",
        "    #\n",
        "\n",
        "    # extract the JSON data\n",
        "    script = html.find('#allrecipes-schema_1-0', first=True)\n",
        "    data = json.loads(script.text)\n",
        "    data = data[0]\n",
        "\n",
        "    # number of ratings\n",
        "    n_ratings = data.get('aggregateRating', {}).get('ratingCount')\n",
        "\n",
        "    # average ratings\n",
        "    rating = data.get('aggregateRating', {}).get('ratingValue')\n",
        "    if rating is not None:\n",
        "        rating = float(rating)\n",
        "\n",
        "    # comments\n",
        "    comments = [dict(\n",
        "        rating = comment.get('reviewRating', {}).get('ratingValue'),\n",
        "        name = comment.get('author', {}).get('name'),\n",
        "        text = comment.get('reviewBody'),\n",
        "    ) for comment in data.get('review')]\n",
        "\n",
        "    # full nutrition info\n",
        "    nutrition = {}\n",
        "    for k, v in data.get('nutrition', {}).items():\n",
        "        if k.startswith('@'):\n",
        "            continue\n",
        "        if k.endswith('Content'):\n",
        "            k = k[:-7]\n",
        "            nutrition[k] = v\n",
        "\n",
        "    #\n",
        "    # package everything as one dictionary\n",
        "    #\n",
        "\n",
        "    recipe = dict(\n",
        "        title = title,\n",
        "        ingredients = ingredients,\n",
        "        facts_summary = facts_summary,\n",
        "        steps = steps,\n",
        "        n_ratings = n_ratings,\n",
        "        rating = rating,\n",
        "        comments = comments,\n",
        "    )\n",
        "\n",
        "    return recipe\n"
      ]
    },
    {
      "cell_type": "markdown",
      "metadata": {
        "id": "F3K_s74o4Pp7"
      },
      "source": [
        "### Testing it out\n",
        "\n",
        "Let's try the new function on a different recipe."
      ]
    },
    {
      "cell_type": "code",
      "execution_count": 14,
      "metadata": {
        "id": "Fe3kG52y4PS6",
        "outputId": "784328f7-c04c-4ef4-a1a6-4c2732615dd2",
        "colab": {
          "base_uri": "https://localhost:8080/"
        }
      },
      "outputs": [
        {
          "output_type": "stream",
          "name": "stdout",
          "text": [
            "{'title': 'Green Beans Almondine', 'ingredients': [{'quantity': '1', 'unit': 'pound', 'name': 'fresh green beans'}, {'quantity': '1 ½', 'unit': 'ounces', 'name': 'slivered almonds'}, {'quantity': '2', 'unit': 'tablespoons', 'name': 'butter'}, {'quantity': '2', 'unit': 'cloves', 'name': 'garlic, minced, or more to taste'}, {'quantity': '', 'unit': '', 'name': 'salt and ground black pepper to taste'}], 'facts_summary': {'Calories': '152', 'Fat': '12g', 'Carbs': '11g', 'Protein': '4g'}, 'steps': ['Place beans into a microwave-safe casserole dish with enough water to cover the bottom. Microwave on high power until almost tender, 8 to 10 minutes. Drain in a colander and refresh under cold running water to keep the nice green color.', 'Heat a frying pan over medium heat. Add almonds and cook until just starting to turn golden, about 3 to 5 minutes, watching closely so as to not burn. Take pan off of heat and add butter to melt. Return to heat and add garlic. Mix in green beans, season with salt and pepper, and continue to stir until heated through, 3 to 5 minutes.'], 'n_ratings': '9', 'rating': 4.7, 'comments': [{'rating': '4', 'name': 'unclehero', 'text': 'Cooked beans as directed in a 1,000 watt microwave. Way over cooked. 4-5 minunes would be sufficient depending on how you like the beans cooked. Flavorful and easy to prepare.&[OK with tweaks]'}, {'rating': '5', 'name': 'Bibi', 'text': \"I liked cooking the green beans in the microwave. The degree of doneness was nearly perfect, possibly because I used really young green beans. I did 8 minutes, and I think next time I'll go for 7 minutes. I used sliced almonds, because that is what I had, on hand. The fresh minced garlic added a lot, too! Thanks for the recipe!\"}, {'rating': '5', 'name': 'Cat', 'text': \"I normally don't make many recipes with green beans, but I was cooking with a friend and was handed a bag of green beans and some almonds and had to figure out what to make. I found this recipe and it was easy to make, and very delicious. It turned out to be a big hit, so I'm adding it to my collection.\"}, {'rating': '5', 'name': 'Donna Price', 'text': 'Very easy, quick, and delicious'}, {'rating': '5', 'name': 'Joan Ford Dyer', 'text': 'Compliments from everyone! It was delicious!!'}, {'rating': '5', 'name': 'Adrianak', 'text': 'Loved this recipe.'}, {'rating': '4', 'name': 'Kelly', 'text': 'use slightly less butter as it was a little too greasy for my taste but tasted good.'}, {'rating': '5', 'name': 'Geri Gitter Bearden', 'text': 'So easy and so yummy. I made it for first night of Hanukkah and again a few days later for Christmas dinner.'}, {'rating': '4', 'name': 'France C', 'text': \"A quick way to prepare a delicious side dish! For my tastes, 8-10 minutes in the microwave is way overcooked. If you like your green beans with a bit of snap to them, I highly recommend cooking only half the stated time. I found them perfectly done at 4 minutes. I also didn't find they needed 5 minutes in the pan as they were still warm when I added them; 2 minutes to toss and coat everything evenly was plenty. I loved the flavor of the garlic and toasted almonds. A great combo that I will make again!\"}]}\n"
          ]
        }
      ],
      "source": [
        "path = '275305/green-beans-almondine/'\n",
        "recipe = ripRecipe(path)\n",
        "print(recipe)"
      ]
    },
    {
      "cell_type": "markdown",
      "metadata": {
        "id": "y7xLjqalEr-n"
      },
      "source": [
        "### Try loading a list of recipes in batch mode"
      ]
    },
    {
      "cell_type": "code",
      "execution_count": 15,
      "metadata": {
        "id": "nnO_w_3WE0_N"
      },
      "outputs": [],
      "source": [
        "# download a list page instead of a single recipe\n",
        "\n",
        "list_url = 'https://www.allrecipes.com/9x13-thanksgiving-casseroles-8401120'\n",
        "response = session.get(list_url)\n",
        "if not response.ok:\n",
        "    response.raise_for_status()\n",
        "\n",
        "html = response.html"
      ]
    },
    {
      "cell_type": "code",
      "execution_count": 16,
      "metadata": {
        "id": "97ZZgnmKHo7u",
        "outputId": "b455fdf6-f8d8-454a-fa3c-752df8216fdd",
        "colab": {
          "base_uri": "https://localhost:8080/"
        }
      },
      "outputs": [
        {
          "output_type": "stream",
          "name": "stdout",
          "text": [
            "255942/savory-sausage-sun-dried-tomato-and-pumpkin-bread-pudding/\n",
            "13478/sweet-potato-casserole-ii/\n",
            "230283/tasty-baked-mac-n-cheese/\n",
            "165112/merritts-butternut-squash-gratin/\n",
            "231988/twice-baked-potato-casserole-with-bacon/\n",
            "240157/loaded-mashed-potatoes/\n",
            "234620/mascarpone-mashed-potatoes/\n",
            "183620/savory-roasted-root-vegetables/\n",
            "18249/baked-sweet-potatoes/\n",
            "152886/thanksgiving-corn-casserole/\n",
            "209928/spinach-casserole/\n",
            "235239/thanksgiving-tradition-oyster-dressing/\n",
            "26492/minnesota-wild-rice-dressing/\n",
            "24741/cornbread-stuffing-with-sausage/\n",
            "25891/garlic-potatoes-gratin/\n",
            "270373/basic-funeral-potatoes/\n",
            "240207/vintage-fresh-green-bean-casserole-circa-1956/\n",
            "274668/tater-tot-corn-casserole/\n",
            "235663/sweet-potato-crunch/\n",
            "23386/sausage-and-cornbread-dressing/\n",
            "19547/grandmas-corn-bread-dressing/\n",
            "13606/awesome-broccoli-cheese-casserole/\n",
            "13634/broccoli-and-stuffing-casserole/\n",
            "276794/sweet-potato-and-gruyere-gratin/\n",
            "23161/southern-cornbread-dressing/\n",
            "219472/french-onion-green-bean-casserole/\n",
            "275305/green-beans-almondine/\n",
            "276505/grandmas-hash-brown-casserole/\n",
            "13664/southwestern-turkey-casserole/\n",
            "37784/easy-turkey-tetrazzini/\n",
            "54507/turkey-potato-casserole/\n"
          ]
        }
      ],
      "source": [
        "# extract the links to featured recipes from the list\n",
        "\n",
        "paths = []\n",
        "\n",
        "for link in html.find('a.mntl-sc-block-featuredlink__link'):\n",
        "    href = link.attrs.get('href')\n",
        "    if href.startswith('https://www.allrecipes.com/recipe/'):\n",
        "        paths.append(href[34:])\n",
        "\n",
        "print('\\n'.join(paths))"
      ]
    },
    {
      "cell_type": "markdown",
      "source": [
        "### Precautions in downloading recipes in batch\n",
        "\n",
        "- Cache results locally so that we don't have to re-do things that work\n",
        "- Add a randomly timed pause in between downloads, to seem less robotic"
      ],
      "metadata": {
        "id": "rgtAfzDdEk8J"
      }
    },
    {
      "cell_type": "code",
      "execution_count": 17,
      "metadata": {
        "id": "DcDuqpcsJb8c"
      },
      "outputs": [],
      "source": [
        "# use a chache\n",
        "cache_file = 'cache.json'\n",
        "\n",
        "if os.path.exists(cache_file):\n",
        "    with open(cache_file) as f:\n",
        "        cache = json.load(f)\n",
        "else:\n",
        "    cache = {}"
      ]
    },
    {
      "cell_type": "code",
      "source": [
        "# download all the recipes\n",
        "\n",
        "for i, path in enumerate(paths):\n",
        "    print(f'[{i+1}/{len(paths)}] {path}', end=' ... ')\n",
        "\n",
        "    # check cache before downloading\n",
        "    if path in cache:\n",
        "        print('cached')\n",
        "        continue\n",
        "\n",
        "    # download this recipe and save to cache\n",
        "    cache[path] = ripRecipe(path)\n",
        "    print('downloaded')\n",
        "\n",
        "    # pause\n",
        "    time.sleep(random.randint(2,10))"
      ],
      "metadata": {
        "id": "rHzlm_eTFQQo",
        "outputId": "6198555d-e3eb-40ab-95ff-558c28bfae0a",
        "colab": {
          "base_uri": "https://localhost:8080/"
        }
      },
      "execution_count": 18,
      "outputs": [
        {
          "output_type": "stream",
          "name": "stdout",
          "text": [
            "[1/31] 255942/savory-sausage-sun-dried-tomato-and-pumpkin-bread-pudding/ ... downloaded\n",
            "[2/31] 13478/sweet-potato-casserole-ii/ ... downloaded\n",
            "[3/31] 230283/tasty-baked-mac-n-cheese/ ... downloaded\n",
            "[4/31] 165112/merritts-butternut-squash-gratin/ ... downloaded\n",
            "[5/31] 231988/twice-baked-potato-casserole-with-bacon/ ... downloaded\n",
            "[6/31] 240157/loaded-mashed-potatoes/ ... downloaded\n",
            "[7/31] 234620/mascarpone-mashed-potatoes/ ... downloaded\n",
            "[8/31] 183620/savory-roasted-root-vegetables/ ... downloaded\n",
            "[9/31] 18249/baked-sweet-potatoes/ ... downloaded\n",
            "[10/31] 152886/thanksgiving-corn-casserole/ ... downloaded\n",
            "[11/31] 209928/spinach-casserole/ ... downloaded\n",
            "[12/31] 235239/thanksgiving-tradition-oyster-dressing/ ... downloaded\n",
            "[13/31] 26492/minnesota-wild-rice-dressing/ ... downloaded\n",
            "[14/31] 24741/cornbread-stuffing-with-sausage/ ... downloaded\n",
            "[15/31] 25891/garlic-potatoes-gratin/ ... downloaded\n",
            "[16/31] 270373/basic-funeral-potatoes/ ... downloaded\n",
            "[17/31] 240207/vintage-fresh-green-bean-casserole-circa-1956/ ... downloaded\n",
            "[18/31] 274668/tater-tot-corn-casserole/ ... downloaded\n",
            "[19/31] 235663/sweet-potato-crunch/ ... downloaded\n",
            "[20/31] 23386/sausage-and-cornbread-dressing/ ... downloaded\n",
            "[21/31] 19547/grandmas-corn-bread-dressing/ ... downloaded\n",
            "[22/31] 13606/awesome-broccoli-cheese-casserole/ ... downloaded\n",
            "[23/31] 13634/broccoli-and-stuffing-casserole/ ... downloaded\n",
            "[24/31] 276794/sweet-potato-and-gruyere-gratin/ ... downloaded\n",
            "[25/31] 23161/southern-cornbread-dressing/ ... downloaded\n",
            "[26/31] 219472/french-onion-green-bean-casserole/ ... downloaded\n",
            "[27/31] 275305/green-beans-almondine/ ... downloaded\n",
            "[28/31] 276505/grandmas-hash-brown-casserole/ ... downloaded\n",
            "[29/31] 13664/southwestern-turkey-casserole/ ... downloaded\n",
            "[30/31] 37784/easy-turkey-tetrazzini/ ... downloaded\n",
            "[31/31] 54507/turkey-potato-casserole/ ... downloaded\n"
          ]
        }
      ]
    },
    {
      "cell_type": "code",
      "source": [
        "# save cache to file\n",
        "print(f'writing {cache_file}')\n",
        "\n",
        "with open(cache_file, 'w') as f:\n",
        "    json.dump(cache, f)"
      ],
      "metadata": {
        "id": "NMAyk0DkfeNW",
        "outputId": "0fa2d4ea-27d8-4d41-a625-e4fe7a01be35",
        "colab": {
          "base_uri": "https://localhost:8080/"
        }
      },
      "execution_count": 19,
      "outputs": [
        {
          "output_type": "stream",
          "name": "stdout",
          "text": [
            "writing cache.json\n"
          ]
        }
      ]
    }
  ],
  "metadata": {
    "colab": {
      "provenance": [],
      "authorship_tag": "ABX9TyO3IzHA1RZYOx3le0QU641n",
      "include_colab_link": true
    },
    "kernelspec": {
      "display_name": "Python 3",
      "name": "python3"
    },
    "language_info": {
      "name": "python"
    }
  },
  "nbformat": 4,
  "nbformat_minor": 0
}